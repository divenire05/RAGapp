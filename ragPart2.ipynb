{
 "cells": [
  {
   "cell_type": "markdown",
   "id": "05f7428f-c2de-446b-9887-805a14aef42f",
   "metadata": {},
   "source": [
    "## Setup"
   ]
  },
  {
   "cell_type": "code",
   "execution_count": 2,
   "id": "8a1bbdd0-2e99-4f9b-ba5c-a852e909df40",
   "metadata": {},
   "outputs": [],
   "source": [
    "from langchain_ollama.chat_models import ChatOllama\n",
    "llm = ChatOllama(model = \"llama3.1:8b-instruct-fp16\")"
   ]
  },
  {
   "cell_type": "code",
   "execution_count": 3,
   "id": "9fc5e64d-b67d-4f2b-99a2-a3d3a2e33947",
   "metadata": {},
   "outputs": [],
   "source": [
    "from langchain_ollama import OllamaEmbeddings\n",
    "embeddings = OllamaEmbeddings(model = \"llama3.1:8b-instruct-fp16\")"
   ]
  },
  {
   "cell_type": "markdown",
   "id": "1b2212b2-6056-4389-82d5-40537d6a6b12",
   "metadata": {},
   "source": [
    "#### Milvus vs. In-memory Vector Store"
   ]
  },
  {
   "cell_type": "code",
   "execution_count": null,
   "id": "1f4646a3-7b4f-4ab8-889b-b96ed6d59732",
   "metadata": {},
   "outputs": [],
   "source": [
    "from langchain_core.vectorstores import InMemoryVectorStore\n",
    "\n",
    "vector_store = InMemoryVectorStore(embeddings)"
   ]
  },
  {
   "cell_type": "code",
   "execution_count": 4,
   "id": "e225d8e1-6a99-4820-80c0-fefd50906555",
   "metadata": {},
   "outputs": [],
   "source": [
    "from langchain_milvus import Milvus\n",
    "\n",
    "vector_store = Milvus(embedding_function=embeddings, auto_id = True) # Server on port 19530"
   ]
  },
  {
   "cell_type": "code",
   "execution_count": 5,
   "id": "0c816387-273f-494c-9c2e-2efeb24d2b36",
   "metadata": {},
   "outputs": [
    {
     "name": "stdin",
     "output_type": "stream",
     "text": [
      " ········\n"
     ]
    }
   ],
   "source": [
    "import getpass\n",
    "import os\n",
    "\n",
    "os.environ[\"LANGCHAIN_TRACING_V2\"] = \"true\"\n",
    "os.environ[\"LANGCHAIN_API_KEY\"] = getpass.getpass()\n",
    "os.environ[\"LANGCHAIN_PROJECT\"] = \"rag\""
   ]
  },
  {
   "cell_type": "markdown",
   "id": "c8c968b6-bb18-46a8-bbb8-187de55b7f40",
   "metadata": {},
   "source": [
    "#### Dependencies"
   ]
  },
  {
   "cell_type": "code",
   "execution_count": 9,
   "id": "d67443a1-2d10-407d-9bbb-3727d0fcae12",
   "metadata": {},
   "outputs": [],
   "source": [
    "%%capture --no-stderr\n",
    "%pip install --upgrade --quiet langgraph langchain-community beautifulsoup4"
   ]
  },
  {
   "cell_type": "markdown",
   "id": "0052770a-2170-4bb3-8cd5-d19c2a194b25",
   "metadata": {},
   "source": [
    "&emsp;"
   ]
  },
  {
   "cell_type": "markdown",
   "id": "42e170d5-9231-4b81-bbca-03935294b9f5",
   "metadata": {},
   "source": [
    "ADD GITIGNORE & FIX FILTER - NOT CORRECT CODE FOR MILVUS!!!"
   ]
  }
 ],
 "metadata": {
  "kernelspec": {
   "display_name": "Python 3 (ipykernel)",
   "language": "python",
   "name": "python3"
  },
  "language_info": {
   "codemirror_mode": {
    "name": "ipython",
    "version": 3
   },
   "file_extension": ".py",
   "mimetype": "text/x-python",
   "name": "python",
   "nbconvert_exporter": "python",
   "pygments_lexer": "ipython3",
   "version": "3.12.7"
  }
 },
 "nbformat": 4,
 "nbformat_minor": 5
}
